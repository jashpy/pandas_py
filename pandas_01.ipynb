{
 "cells": [
  {
   "cell_type": "markdown",
   "id": "8657a9ad-8b4e-45ee-ad42-28d94206c9db",
   "metadata": {},
   "source": [
    "problem-1"
   ]
  },
  {
   "cell_type": "code",
   "execution_count": 1,
   "id": "4986e27b-2b49-47ae-bfb9-11fedf61ae84",
   "metadata": {},
   "outputs": [
    {
     "data": {
      "text/plain": [
       "0     4\n",
       "1     8\n",
       "2    15\n",
       "3    16\n",
       "4    23\n",
       "5    42\n",
       "dtype: int64"
      ]
     },
     "execution_count": 1,
     "metadata": {},
     "output_type": "execute_result"
    }
   ],
   "source": [
    "#Q1. Create a Pandas Series that contains the following data: 4, 8, 15, 16, 23, and 42. Then, print the series.\n",
    "\n",
    "import pandas as pd\n",
    "#lets store it inside a list otherwise we can do with the numpy also\n",
    "l=[4,8,15,16,23,42]\n",
    "\n",
    "df=pd.Series(l)\n",
    "df"
   ]
  },
  {
   "cell_type": "markdown",
   "id": "4a6e1b75-7acd-42d2-99c7-e7b94c86c9ee",
   "metadata": {},
   "source": [
    "problem-2"
   ]
  },
  {
   "cell_type": "code",
   "execution_count": 2,
   "id": "1cfdfe94-20dd-4361-b25e-82a5ba41de73",
   "metadata": {},
   "outputs": [
    {
     "data": {
      "text/plain": [
       "0        23\n",
       "1    pandas\n",
       "2        45\n",
       "3        67\n",
       "4        89\n",
       "5        34\n",
       "6        60\n",
       "7       abc\n",
       "8     45.56\n",
       "9        12\n",
       "dtype: object"
      ]
     },
     "execution_count": 2,
     "metadata": {},
     "output_type": "execute_result"
    }
   ],
   "source": [
    "'''Q2. Create a variable of list type containing 10 elements in it, and apply pandas.Series function on the\n",
    "variable print it.'''\n",
    "\n",
    "import pandas as pd\n",
    "l1=[23,\"pandas\",45,67,89,34,60,\"abc\",45.56,12]\n",
    "\n",
    "df=pd.Series(l1)\n",
    "df"
   ]
  },
  {
   "cell_type": "markdown",
   "id": "13c4685b-ea32-4042-b89e-5532033a3fba",
   "metadata": {},
   "source": [
    "problem-3"
   ]
  },
  {
   "cell_type": "code",
   "execution_count": 3,
   "id": "8f05d9b9-4abf-4616-954d-1f6e14a3b474",
   "metadata": {},
   "outputs": [
    {
     "data": {
      "text/html": [
       "<div>\n",
       "<style scoped>\n",
       "    .dataframe tbody tr th:only-of-type {\n",
       "        vertical-align: middle;\n",
       "    }\n",
       "\n",
       "    .dataframe tbody tr th {\n",
       "        vertical-align: top;\n",
       "    }\n",
       "\n",
       "    .dataframe thead th {\n",
       "        text-align: right;\n",
       "    }\n",
       "</style>\n",
       "<table border=\"1\" class=\"dataframe\">\n",
       "  <thead>\n",
       "    <tr style=\"text-align: right;\">\n",
       "      <th></th>\n",
       "      <th>Name</th>\n",
       "      <th>Age</th>\n",
       "      <th>Gender</th>\n",
       "    </tr>\n",
       "  </thead>\n",
       "  <tbody>\n",
       "    <tr>\n",
       "      <th>0</th>\n",
       "      <td>Alice</td>\n",
       "      <td>25</td>\n",
       "      <td>Female</td>\n",
       "    </tr>\n",
       "    <tr>\n",
       "      <th>1</th>\n",
       "      <td>Bob</td>\n",
       "      <td>30</td>\n",
       "      <td>Male</td>\n",
       "    </tr>\n",
       "    <tr>\n",
       "      <th>2</th>\n",
       "      <td>Claire</td>\n",
       "      <td>27</td>\n",
       "      <td>Female</td>\n",
       "    </tr>\n",
       "  </tbody>\n",
       "</table>\n",
       "</div>"
      ],
      "text/plain": [
       "     Name Age  Gender\n",
       "0   Alice  25  Female\n",
       "1     Bob  30    Male\n",
       "2  Claire  27  Female"
      ]
     },
     "execution_count": 3,
     "metadata": {},
     "output_type": "execute_result"
    }
   ],
   "source": [
    "import pandas as pd\n",
    "\n",
    "dict={\n",
    "    \"Name\":['Alice','Bob','Claire'],\n",
    "    \"Age\":['25','30','27'],\n",
    "    \"Gender\":['Female','Male','Female']\n",
    "}\n",
    "\n",
    "df1=pd.DataFrame(dict)\n",
    "df1"
   ]
  },
  {
   "cell_type": "markdown",
   "id": "5f1e0797-9f12-47b5-929e-71aac1714232",
   "metadata": {},
   "source": [
    "problem-4"
   ]
  },
  {
   "cell_type": "code",
   "execution_count": 4,
   "id": "e82d38e7-6652-4e1c-b6d0-07b3b010a069",
   "metadata": {},
   "outputs": [
    {
     "name": "stdout",
     "output_type": "stream",
     "text": [
      "0        23\n",
      "1    pandas\n",
      "2        45\n",
      "3        67\n",
      "4        89\n",
      "5        34\n",
      "6        60\n",
      "7       abc\n",
      "8     45.56\n",
      "9        12\n",
      "dtype: object\n"
     ]
    },
    {
     "data": {
      "text/html": [
       "<div>\n",
       "<style scoped>\n",
       "    .dataframe tbody tr th:only-of-type {\n",
       "        vertical-align: middle;\n",
       "    }\n",
       "\n",
       "    .dataframe tbody tr th {\n",
       "        vertical-align: top;\n",
       "    }\n",
       "\n",
       "    .dataframe thead th {\n",
       "        text-align: right;\n",
       "    }\n",
       "</style>\n",
       "<table border=\"1\" class=\"dataframe\">\n",
       "  <thead>\n",
       "    <tr style=\"text-align: right;\">\n",
       "      <th></th>\n",
       "      <th>Name</th>\n",
       "      <th>Age</th>\n",
       "      <th>Gender</th>\n",
       "    </tr>\n",
       "  </thead>\n",
       "  <tbody>\n",
       "    <tr>\n",
       "      <th>0</th>\n",
       "      <td>Alice</td>\n",
       "      <td>25</td>\n",
       "      <td>Female</td>\n",
       "    </tr>\n",
       "    <tr>\n",
       "      <th>1</th>\n",
       "      <td>Bob</td>\n",
       "      <td>30</td>\n",
       "      <td>Male</td>\n",
       "    </tr>\n",
       "    <tr>\n",
       "      <th>2</th>\n",
       "      <td>Claire</td>\n",
       "      <td>27</td>\n",
       "      <td>Female</td>\n",
       "    </tr>\n",
       "  </tbody>\n",
       "</table>\n",
       "</div>"
      ],
      "text/plain": [
       "     Name Age  Gender\n",
       "0   Alice  25  Female\n",
       "1     Bob  30    Male\n",
       "2  Claire  27  Female"
      ]
     },
     "execution_count": 4,
     "metadata": {},
     "output_type": "execute_result"
    }
   ],
   "source": [
    "#Q4. What is ‘DataFrame’ in pandas and how is it different from pandas.series? Explain with an example.\n",
    "'''ans= We can say that dataframe is a complete representation as like dataset which is 2d,that means\n",
    "contains both rows and columns.Whereas pandas series is a 1d array.\n",
    "\n",
    "example:'''\n",
    "#pandas series:\n",
    "import pandas as pd\n",
    "l1=[23,\"pandas\",45,67,89,34,60,\"abc\",45.56,12]\n",
    "\n",
    "df=pd.Series(l1)\n",
    "print(df)\n",
    "\n",
    "#pandas dataframe:\n",
    "\n",
    "dict={\n",
    "    \"Name\":['Alice','Bob','Claire'],\n",
    "    \"Age\":['25','30','27'],\n",
    "    \"Gender\":['Female','Male','Female']\n",
    "}\n",
    "\n",
    "df1=pd.DataFrame(dict)\n",
    "df1"
   ]
  },
  {
   "cell_type": "markdown",
   "id": "00737c1a-d637-4e2e-9734-15481b3b2ad5",
   "metadata": {},
   "source": [
    "problem-5"
   ]
  },
  {
   "cell_type": "code",
   "execution_count": 5,
   "id": "3c81e27b-8d16-4b1b-97f9-790e3434d625",
   "metadata": {},
   "outputs": [
    {
     "name": "stdout",
     "output_type": "stream",
     "text": [
      "     Name Age  Gender\n",
      "0   Alice  25  Female\n",
      "1     Bob  30    Male\n",
      "2  Claire  27  Female\n",
      "(3, 3)\n"
     ]
    }
   ],
   "source": [
    "'''Q5. What are some common functions you can use to manipulate data in a Pandas DataFrame? Can\n",
    "you give an example of when you might use one of these functions?'''\n",
    "\n",
    "'''ans-->there are many used pandas function like;\n",
    "\n",
    "pd.read_csv\n",
    "pd.to_csv\n",
    "\n",
    "like after converting it to dataframe:\n",
    "df=pd.DataFrame(something.data,columns=something.features_names)\n",
    "\n",
    "df.head()\n",
    "df.tail()\n",
    "df.shape()\n",
    "df.describe()\n",
    "\n",
    "and lots of others....'''\n",
    "#example:\n",
    "\n",
    "import pandas as pd\n",
    "dict={\n",
    "    \"Name\":['Alice','Bob','Claire'],\n",
    "    \"Age\":['25','30','27'],\n",
    "    \"Gender\":['Female','Male','Female']\n",
    "}\n",
    "\n",
    "df1=pd.DataFrame(dict)\n",
    "print(df1)\n",
    "print(df1.shape)"
   ]
  },
  {
   "cell_type": "markdown",
   "id": "5921cea5-617a-41e7-b129-8e6fbcb44e86",
   "metadata": {},
   "source": [
    "problem-6"
   ]
  },
  {
   "cell_type": "code",
   "execution_count": 6,
   "id": "b3be28a6-740a-4d23-b361-456dce36f1f9",
   "metadata": {},
   "outputs": [
    {
     "data": {
      "text/plain": [
       "'ans-->in both data can be mutable'"
      ]
     },
     "execution_count": 6,
     "metadata": {},
     "output_type": "execute_result"
    }
   ],
   "source": [
    "#Q6. Which of the following is mutable in nature Series, DataFrame, Panel?\n",
    "'''ans-->in both data can be mutable'''"
   ]
  },
  {
   "cell_type": "markdown",
   "id": "34be0ab7-39c6-49fb-8a53-c7314602738d",
   "metadata": {},
   "source": [
    "problem-7"
   ]
  },
  {
   "cell_type": "code",
   "execution_count": 7,
   "id": "aec77e04-900f-4deb-bb96-601efb4d42fe",
   "metadata": {},
   "outputs": [
    {
     "data": {
      "text/html": [
       "<div>\n",
       "<style scoped>\n",
       "    .dataframe tbody tr th:only-of-type {\n",
       "        vertical-align: middle;\n",
       "    }\n",
       "\n",
       "    .dataframe tbody tr th {\n",
       "        vertical-align: top;\n",
       "    }\n",
       "\n",
       "    .dataframe thead th {\n",
       "        text-align: right;\n",
       "    }\n",
       "</style>\n",
       "<table border=\"1\" class=\"dataframe\">\n",
       "  <thead>\n",
       "    <tr style=\"text-align: right;\">\n",
       "      <th></th>\n",
       "      <th>0</th>\n",
       "      <th>1</th>\n",
       "    </tr>\n",
       "  </thead>\n",
       "  <tbody>\n",
       "    <tr>\n",
       "      <th>a</th>\n",
       "      <td>5</td>\n",
       "      <td>16</td>\n",
       "    </tr>\n",
       "    <tr>\n",
       "      <th>b</th>\n",
       "      <td>10</td>\n",
       "      <td>15</td>\n",
       "    </tr>\n",
       "  </tbody>\n",
       "</table>\n",
       "</div>"
      ],
      "text/plain": [
       "    0   1\n",
       "a   5  16\n",
       "b  10  15"
      ]
     },
     "execution_count": 7,
     "metadata": {},
     "output_type": "execute_result"
    }
   ],
   "source": [
    "#Q7. Create a DataFrame using multiple Series. Explain with an example.\n",
    "'''ans--->with the help of concatenation we can do this'''\n",
    "\n",
    "import pandas as pd\n",
    "s1 = pd.Series([5,10], index=[\"a\",\"b\"])\n",
    "s2 = pd.Series([16,15], index=[\"a\",\"b\"])\n",
    "pd.concat([s1,s2], axis=1)"
   ]
  },
  {
   "cell_type": "code",
   "execution_count": null,
   "id": "bb1c477d-4181-4833-abf7-920a48e2abb7",
   "metadata": {},
   "outputs": [],
   "source": []
  }
 ],
 "metadata": {
  "kernelspec": {
   "display_name": "Python 3 (ipykernel)",
   "language": "python",
   "name": "python3"
  },
  "language_info": {
   "codemirror_mode": {
    "name": "ipython",
    "version": 3
   },
   "file_extension": ".py",
   "mimetype": "text/x-python",
   "name": "python",
   "nbconvert_exporter": "python",
   "pygments_lexer": "ipython3",
   "version": "3.10.8"
  }
 },
 "nbformat": 4,
 "nbformat_minor": 5
}
